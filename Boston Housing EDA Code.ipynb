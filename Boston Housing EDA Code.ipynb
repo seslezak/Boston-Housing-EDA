{
 "cells": [
  {
   "cell_type": "markdown",
   "metadata": {},
   "source": [
    "#### Let's begin by loading the packages we are working with."
   ]
  },
  {
   "cell_type": "code",
   "execution_count": null,
   "metadata": {
    "scrolled": false
   },
   "outputs": [],
   "source": [
    "install.packages(\"mlbench\", repos = \"http://cran.us.r-project.org\")\n",
    "install.packages(\"DataExplorer\", repos = \"http://cran.us.r-project.org\")\n",
    "install.packages(\"corrplot\", repos = \"http://cran.us.r-project.org\")\n",
    "install.packages(\"e1071\", repos = \"http://cran.us.r-project.org\")\n",
    "install.packages(\"usdm\", repos = \"http://cran.us.r-project.org\")\n",
    "library(tidyverse)\n",
    "library(ggplot2)\n",
    "library(pryr)\n",
    "library(moments)\n",
    "library(mlbench)\n",
    "library(DataExplorer)\n",
    "library(corrplot)\n",
    "library(e1071)\n",
    "library(usdm)"
   ]
  },
  {
   "cell_type": "markdown",
   "metadata": {},
   "source": [
    "#### Then we load the data."
   ]
  },
  {
   "cell_type": "code",
   "execution_count": null,
   "metadata": {},
   "outputs": [],
   "source": [
    "BostonURL <- \"https://archive.ics.uci.edu/ml/machine-learning-databases/housing/housing.data\"\n",
    "Boston <- read.csv(url(BostonURL), sep = \"\", header = FALSE)"
   ]
  },
  {
   "cell_type": "markdown",
   "metadata": {},
   "source": [
    "#### Let's give the columns names, structure the data, and check to see its size and if there are any missing or duplicate data."
   ]
  },
  {
   "cell_type": "code",
   "execution_count": null,
   "metadata": {},
   "outputs": [],
   "source": [
    "colnames(Boston) <- c('Crime', 'LrgLots', 'IndAcr', 'River', 'NOX', 'Rms', 'OwnOcc', 'DistWork', 'HiwayAcc', 'PropTax', 'EdRat', 'Min', 'LowStatus', 'MedVal')\n",
    "as_tibble(Boston)\n",
    "object_size(Boston)\n",
    "sum(is.na(Boston))\n",
    "anyDuplicated(Boston)"
   ]
  },
  {
   "cell_type": "markdown",
   "metadata": {},
   "source": [
    "#### Next we will run a statistical summary of the data and examine its structure."
   ]
  },
  {
   "cell_type": "code",
   "execution_count": null,
   "metadata": {},
   "outputs": [],
   "source": [
    "summary(Boston)\n",
    "str(Boston)"
   ]
  },
  {
   "cell_type": "markdown",
   "metadata": {},
   "source": [
    "#### We see we have a couple features that are integers.  The rest are numeric.  The two integer features are really factors.  *River* is a binary and *HiwayAcc* is an index.  Other features appear to be factors, so we will take care of those in a bit.\n",
    "\n",
    "#### Next we will create an object, *BostonNum*, to work with.  It contains only the numeric features.  We run a sanity check to make sure we didn't screw up."
   ]
  },
  {
   "cell_type": "code",
   "execution_count": null,
   "metadata": {},
   "outputs": [],
   "source": [
    "BostonNum <- Boston\n",
    "BostonNum <- subset(BostonNum, select = c('Crime', 'LrgLots', 'IndAcr', 'NOX', 'Rms', 'OwnOcc', 'DistWork', 'PropTax', 'EdRat', 'Min', 'LowStatus', 'MedVal'))\n",
    "summary(BostonNum)\n",
    "str(BostonNum)"
   ]
  },
  {
   "cell_type": "markdown",
   "metadata": {},
   "source": [
    "#### Things look good, so now we can visualize the data features to see what we are working with.  First we run a histogram of the entire data set, including all features."
   ]
  },
  {
   "cell_type": "code",
   "execution_count": null,
   "metadata": {},
   "outputs": [],
   "source": [
    "plot_histogram(Boston)"
   ]
  },
  {
   "cell_type": "markdown",
   "metadata": {},
   "source": [
    "#### It would be helpful to develop some density plots.  None of our data look normally distributed, do they?"
   ]
  },
  {
   "cell_type": "code",
   "execution_count": null,
   "metadata": {
    "scrolled": true
   },
   "outputs": [],
   "source": [
    "plot_density(Boston)"
   ]
  },
  {
   "cell_type": "markdown",
   "metadata": {},
   "source": [
    "#### Let's break out the other features we think are factors and look at them separately using barplots.  Again, things looked very skewed."
   ]
  },
  {
   "cell_type": "code",
   "execution_count": null,
   "metadata": {
    "scrolled": false
   },
   "outputs": [],
   "source": [
    "Boston$HiwayAcc <- as.factor(Boston$HiwayAcc)\n",
    "for (col in c('Crime', 'LrgLots', 'IndAcr', 'Min', 'River'))\n",
    "        Boston[[paste0(col, \"_d\")]] <- as.factor(ggplot2::cut_interval(Boston[[col]], 2))\n",
    "plot_bar(Boston)"
   ]
  },
  {
   "cell_type": "markdown",
   "metadata": {},
   "source": [
    "#### Let's see if we can get a better idea of the nature of the skew and identify any outliers.  We can use boxplots for this.  They are built on Tukey's principles so outliers here meet Tukey's definition of anything beyond *1.5 x IQR*."
   ]
  },
  {
   "cell_type": "code",
   "execution_count": null,
   "metadata": {
    "scrolled": true
   },
   "outputs": [],
   "source": [
    "plot_boxplot(Boston, by = 'River')"
   ]
  },
  {
   "cell_type": "markdown",
   "metadata": {},
   "source": [
    "#### Let's also look at the features we identify as numeric in order to see if there are any linear relationships of interest.  We can also get a sense of correlations by looking at their scatterplots.  We find some linear relationships appear to exist, and some strong correlation might be there, but overall the groupings appear pretty loose.  The plots in the bottom half are not of much interest to us."
   ]
  },
  {
   "cell_type": "code",
   "execution_count": null,
   "metadata": {
    "scrolled": false
   },
   "outputs": [],
   "source": [
    "plot_scatterplot(subset(Boston, select = -c(Crime, LrgLots, IndAcr, Min, River)), by = 'MedVal', size = 0.5)"
   ]
  },
  {
   "cell_type": "markdown",
   "metadata": {},
   "source": [
    "#### Our intuition tells us there is little or no normalcy in the distribution of the data, but we can run quantile plots to see this more clearly.  The red line is the theoretical path the data would take were they distributed normally. "
   ]
  },
  {
   "cell_type": "code",
   "execution_count": null,
   "metadata": {
    "scrolled": true
   },
   "outputs": [],
   "source": [
    "par(mfrow = c(3, 4))\n",
    "qqnorm(Boston[[1]], main = 'Crime')\n",
    "qqline(Boston[[1]], col = 'red')\n",
    "qqnorm(Boston[[2]], main = 'LrgLots')\n",
    "qqline(Boston[[2]], col = 'red')\n",
    "qqnorm(Boston[[3]], main = 'IndAcr')\n",
    "qqline(Boston[[3]], col = 'red')\n",
    "qqnorm(Boston[[5]], main = 'NOX')\n",
    "qqline(Boston[[5]], col = 'red')\n",
    "qqnorm(Boston[[6]], main = 'Rms')\n",
    "qqline(Boston[[6]], col = 'red')\n",
    "qqnorm(Boston[[7]], main = 'OwnOcc')\n",
    "qqline(Boston[[7]], col = 'red')\n",
    "qqnorm(Boston[[8]], main = 'DistWork')\n",
    "qqline(Boston[[8]], col = 'red')\n",
    "qqnorm(Boston[[10]], main = 'PropTax')\n",
    "qqline(Boston[[10]], col = 'red')\n",
    "qqnorm(Boston[[11]], main = 'EdRat')\n",
    "qqline(Boston[[11]], col = 'red')\n",
    "qqnorm(Boston[[12]], main = 'Min')\n",
    "qqline(Boston[[12]], col = 'red')\n",
    "qqnorm(Boston[[13]], main = 'LowStatus')\n",
    "qqline(Boston[[13]], col = 'red')\n",
    "qqnorm(Boston[[14]], main = 'MedVal')\n",
    "qqline(Boston[[14]], col = 'red')"
   ]
  },
  {
   "cell_type": "markdown",
   "metadata": {},
   "source": [
    "#### We can see that the features do not follow the red line too closely so we cannot say any of the data are distriubted normally."
   ]
  }
 ],
 "metadata": {
  "kernelspec": {
   "display_name": "R",
   "language": "R",
   "name": "ir"
  },
  "language_info": {
   "codemirror_mode": "r",
   "file_extension": ".r",
   "mimetype": "text/x-r-source",
   "name": "R",
   "pygments_lexer": "r",
   "version": "3.4.1"
  }
 },
 "nbformat": 4,
 "nbformat_minor": 2
}
